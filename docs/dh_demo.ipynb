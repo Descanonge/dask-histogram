{
 "cells": [
  {
   "cell_type": "code",
   "execution_count": null,
   "id": "9bd89eec-9e90-451d-951c-bc1f1c215fe0",
   "metadata": {},
   "outputs": [],
   "source": [
    "# dask_histogram makes boost-histograms fillable with dask collections.\n",
    "import dask_histogram as dh\n",
    "import dask.array as da \n",
    "import boost_histogram as bh\n",
    "\n",
    "# higher level API for plotting and analysis of histograms.\n",
    "import hist\n",
    "\n",
    "import matplotlib.pyplot as plt"
   ]
  },
  {
   "cell_type": "code",
   "execution_count": null,
   "id": "ac57d33f-a882-4211-9054-d275105f1c50",
   "metadata": {},
   "outputs": [],
   "source": [
    "x = da.random.standard_normal(100_000_000, chunks=25_000_000)\n",
    "y = da.random.standard_normal(100_000_000, chunks=25_000_000)"
   ]
  },
  {
   "cell_type": "code",
   "execution_count": null,
   "id": "9e2324c6-6ca9-4ddc-8040-ec2e2a41a6b9",
   "metadata": {},
   "outputs": [],
   "source": [
    "x"
   ]
  },
  {
   "cell_type": "code",
   "execution_count": null,
   "id": "fcd31eea-0844-406f-99b1-a278bc242e96",
   "metadata": {
    "tags": []
   },
   "outputs": [],
   "source": [
    "h          = dh.Histogram(dh.axis.Regular(50, -3, 3), dh.axis.Regular(50, -3, 3))\n",
    "h_concrete = bh.Histogram(bh.axis.Regular(50, -3, 3), dh.axis.Regular(50, -3, 3))"
   ]
  },
  {
   "cell_type": "code",
   "execution_count": null,
   "id": "ef68d425-d74e-428d-8a9a-089f8802e2b4",
   "metadata": {},
   "outputs": [],
   "source": [
    "h"
   ]
  },
  {
   "cell_type": "code",
   "execution_count": null,
   "id": "4b52ce29-360c-48ad-98e8-53f24890fd5c",
   "metadata": {},
   "outputs": [],
   "source": [
    "h_concrete"
   ]
  },
  {
   "cell_type": "code",
   "execution_count": null,
   "id": "b39a57b9-b7fd-4605-acb9-4976c9063be9",
   "metadata": {},
   "outputs": [],
   "source": [
    "# will force x and y to materialize as their underlying dask collection (numpy arrays)\n",
    "h_concrete.fill(x, y)"
   ]
  },
  {
   "cell_type": "code",
   "execution_count": null,
   "id": "4f8f753d-7bef-4a5f-b075-f90b4c19b8ae",
   "metadata": {},
   "outputs": [],
   "source": [
    "h.fill(x, y) # data is still lazy"
   ]
  },
  {
   "cell_type": "code",
   "execution_count": null,
   "id": "68217efb-d1d9-41cd-9a5a-0cabad4a63f1",
   "metadata": {},
   "outputs": [],
   "source": [
    "h.to_delayed().visualize()"
   ]
  },
  {
   "cell_type": "code",
   "execution_count": null,
   "id": "3dc88d8e-c36f-4c42-b6ab-c12a85b0a8c4",
   "metadata": {},
   "outputs": [],
   "source": [
    "h.compute()"
   ]
  },
  {
   "cell_type": "code",
   "execution_count": null,
   "id": "fcdfbb74-3588-43ff-ad39-be75d754391b",
   "metadata": {},
   "outputs": [],
   "source": [
    "h.fill(x, y)"
   ]
  },
  {
   "cell_type": "code",
   "execution_count": null,
   "id": "4bb06f99-8102-49d4-804e-884a9d605bc9",
   "metadata": {},
   "outputs": [],
   "source": [
    "h.compute()\n",
    "h = hist.Hist(h)\n",
    "h.project(0).plot1d()"
   ]
  },
  {
   "cell_type": "code",
   "execution_count": null,
   "id": "370db744-ceb7-4093-9e22-ffb3e664156d",
   "metadata": {},
   "outputs": [],
   "source": [
    "plt.figure(figsize=(8, 8))\n",
    "\n",
    "h.plot2d_full(\n",
    "    main_cmap=\"coolwarm\",\n",
    "    top_ls=\"--\",\n",
    "    top_color=\"orange\",\n",
    "    top_lw=2,\n",
    "    side_ls=\":\",\n",
    "    side_lw=2,\n",
    "    side_color=\"steelblue\",\n",
    ")\n",
    "\n",
    "plt.show()"
   ]
  },
  {
   "cell_type": "code",
   "execution_count": null,
   "id": "6c077c9a-d8e6-40b0-ba53-21259c113c63",
   "metadata": {},
   "outputs": [],
   "source": [
    "h"
   ]
  },
  {
   "cell_type": "code",
   "execution_count": null,
   "id": "cda08a0d-69a4-4463-bb6c-bdde9081c90b",
   "metadata": {},
   "outputs": [],
   "source": [
    "help(dh.Histogram)"
   ]
  }
 ],
 "metadata": {
  "kernelspec": {
   "display_name": "Python 3",
   "language": "python",
   "name": "python3"
  },
  "language_info": {
   "codemirror_mode": {
    "name": "ipython",
    "version": 3
   },
   "file_extension": ".py",
   "mimetype": "text/x-python",
   "name": "python",
   "nbconvert_exporter": "python",
   "pygments_lexer": "ipython3",
   "version": "3.9.2"
  }
 },
 "nbformat": 4,
 "nbformat_minor": 5
}
